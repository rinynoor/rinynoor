{
  "nbformat": 4,
  "nbformat_minor": 0,
  "metadata": {
    "colab": {
      "provenance": []
    },
    "kernelspec": {
      "name": "python3",
      "display_name": "Python 3"
    },
    "language_info": {
      "name": "python"
    }
  },
  "cells": [
    {
      "cell_type": "code",
      "execution_count": null,
      "metadata": {
        "colab": {
          "base_uri": "https://localhost:8080/"
        },
        "id": "6-bT70i7O3_k",
        "outputId": "e874b9d7-d0eb-48dc-83ce-aa7c5a01edd9"
      },
      "outputs": [
        {
          "output_type": "stream",
          "name": "stdout",
          "text": [
            "Requirement already satisfied: scikit-learn in /usr/local/lib/python3.10/dist-packages (1.3.2)\n",
            "Collecting scikit-learn\n",
            "  Downloading scikit_learn-1.5.1-cp310-cp310-manylinux_2_17_x86_64.manylinux2014_x86_64.whl.metadata (12 kB)\n",
            "Requirement already satisfied: numpy>=1.19.5 in /usr/local/lib/python3.10/dist-packages (from scikit-learn) (1.26.4)\n",
            "Requirement already satisfied: scipy>=1.6.0 in /usr/local/lib/python3.10/dist-packages (from scikit-learn) (1.13.1)\n",
            "Requirement already satisfied: joblib>=1.2.0 in /usr/local/lib/python3.10/dist-packages (from scikit-learn) (1.4.2)\n",
            "Requirement already satisfied: threadpoolctl>=3.1.0 in /usr/local/lib/python3.10/dist-packages (from scikit-learn) (3.5.0)\n",
            "Downloading scikit_learn-1.5.1-cp310-cp310-manylinux_2_17_x86_64.manylinux2014_x86_64.whl (13.4 MB)\n",
            "\u001b[2K   \u001b[90m━━━━━━━━━━━━━━━━━━━━━━━━━━━━━━━━━━━━━━━━\u001b[0m \u001b[32m13.4/13.4 MB\u001b[0m \u001b[31m60.4 MB/s\u001b[0m eta \u001b[36m0:00:00\u001b[0m\n",
            "\u001b[?25hInstalling collected packages: scikit-learn\n",
            "  Attempting uninstall: scikit-learn\n",
            "    Found existing installation: scikit-learn 1.3.2\n",
            "    Uninstalling scikit-learn-1.3.2:\n",
            "      Successfully uninstalled scikit-learn-1.3.2\n",
            "Successfully installed scikit-learn-1.5.1\n"
          ]
        }
      ],
      "source": [
        "pip install -U scikit-learn\n"
      ]
    },
    {
      "cell_type": "code",
      "source": [
        "#Write a Python program to find the GCD of two numbers using While Loop, Functions, and Recursion.\n",
        "#To find the GCD or HCF, we must pass at least one non-zero value.\n",
        "#The Greatest Common Divisor is also known as the Highest Common Factor (HCF),\n",
        "#Greatest Common Factor (GCF), Highest Common Divisor (HCD), or Greatest Common Measure (GCM).\n",
        "\n",
        "num1 = 36\n",
        "num2 = 60\n",
        "a = num1\n",
        "b = num2\n",
        "while num1 != num2:\n",
        "    if num1 > num2:\n",
        "        num1 -= num2\n",
        "    else:\n",
        "        num2 -= num1\n",
        "print(\"GCD of\", a, \"and\", b, \"is\", num1)\n"
      ],
      "metadata": {
        "id": "1usp1H8WSr3r",
        "colab": {
          "base_uri": "https://localhost:8080/"
        },
        "outputId": "f379b2ff-c34f-4d37-b5ff-74ca997bd438"
      },
      "execution_count": 27,
      "outputs": [
        {
          "output_type": "stream",
          "name": "stdout",
          "text": [
            "GCD of 36 and 60 is 12\n"
          ]
        }
      ]
    },
    {
      "cell_type": "code",
      "source": [
        "a = float(input(\" Please Enter the First Value a: \"))\n",
        "b = float(input(\" Please Enter the Second Value b: \"))\n",
        "\n",
        "i = 1\n",
        "while(i <= a and i <= b):\n",
        "    if(a % i == 0 and b % i == 0):\n",
        "        val = i\n",
        "    i = i + 1\n",
        "\n",
        "print(\"\\n HCF of {0} and {1} = {2}\".format(a, b, val))"
      ],
      "metadata": {
        "colab": {
          "base_uri": "https://localhost:8080/"
        },
        "id": "nw4njJ6nXuaK",
        "outputId": "befe36e2-80be-4d7a-e85c-4ee17411813a"
      },
      "execution_count": 23,
      "outputs": [
        {
          "output_type": "stream",
          "name": "stdout",
          "text": [
            " Please Enter the First Value a: 10\n",
            " Please Enter the Second Value b: 4\n",
            "\n",
            " HCF of 10.0 and 4.0 = 2\n"
          ]
        }
      ]
    },
    {
      "cell_type": "code",
      "source": [
        "#Python Program for HCF of Two Numbers using gcd function\n",
        "#There is a built-in math function called the gcd() function that accepts two arguments and returns their HCF.\n",
        "#This function accepts only integer values.\n",
        "\n",
        "import math\n",
        "\n",
        "a = int(input(\"First : \"))\n",
        "b = int(input(\"Second : \"))\n",
        "\n",
        "hcf = math.gcd(a, b)\n",
        "\n",
        "print(hcf)"
      ],
      "metadata": {
        "colab": {
          "base_uri": "https://localhost:8080/"
        },
        "id": "uxKaYaTWYXB-",
        "outputId": "5c1a8cd8-63bf-4037-f0db-8412f791f1b5"
      },
      "execution_count": 26,
      "outputs": [
        {
          "output_type": "stream",
          "name": "stdout",
          "text": [
            "First : 25\n",
            "Second : 3\n",
            "1\n"
          ]
        }
      ]
    },
    {
      "cell_type": "code",
      "source": [
        "#The math.gcd() method returns the greatest common divisor of the two integers int1 and int2.\n",
        "#GCD is the largest common divisor that divides the numbers without a remainder.\n",
        "#GCD is also known as the highest common factor (HCF).\n",
        "#Tip: gcd(0,0) returns 0.\n",
        "\n",
        "#Import / using math Library\n",
        "import math\n",
        "\n",
        "#find the the greatest common divisor of the two integers\n",
        "print (math.gcd(3, 6))\n",
        "print (math.gcd(6, 12))\n",
        "print (math.gcd(12, 36))\n",
        "print (math.gcd(-12, -36))\n",
        "print (math.gcd(5, 12))\n",
        "print (math.gcd(10, 0))\n",
        "print (math.gcd(0, 34))\n",
        "print (math.gcd(0, 0))"
      ],
      "metadata": {
        "colab": {
          "base_uri": "https://localhost:8080/"
        },
        "id": "LhtKsTYSVmeQ",
        "outputId": "8bee101b-4936-44db-f08f-4ad4b336ca8d"
      },
      "execution_count": 18,
      "outputs": [
        {
          "output_type": "stream",
          "name": "stdout",
          "text": [
            "3\n",
            "6\n",
            "12\n",
            "12\n",
            "1\n",
            "10\n",
            "34\n",
            "0\n"
          ]
        }
      ]
    },
    {
      "cell_type": "markdown",
      "source": [],
      "metadata": {
        "id": "kP3DJmg1UXeA"
      }
    },
    {
      "cell_type": "code",
      "source": [
        "#This Python program allows the user to enter two positive integer values.\n",
        "#Next, we are using the While loop to restrict the i value not to exceed the user-specified values.\n",
        "#Within the While loop, we used the If Statement to check whether a%i and a % i remainder equal to zero or not.\n",
        "#If true, the Highest Common Factor = I; otherwise, skip that value.\n",
        "\n",
        "num1 = float(input(\" First : \"))\n",
        "num2 = float(input(\" Second : \"))\n",
        "\n",
        "a = num1\n",
        "b = num2\n",
        "\n",
        "while(num2 != 0):\n",
        "    temp = num2\n",
        "    num2 = num1 % num2\n",
        "    num1 = temp\n",
        "\n",
        "hcf = num1\n",
        "print(\"\\n HCF of {0} and {1} = {2}\".format(a, b, hcf))"
      ],
      "metadata": {
        "colab": {
          "base_uri": "https://localhost:8080/"
        },
        "id": "n_NxLESYX6Ur",
        "outputId": "55e396f3-76ca-4f0b-9647-3994053a708d"
      },
      "execution_count": 25,
      "outputs": [
        {
          "output_type": "stream",
          "name": "stdout",
          "text": [
            " First : 10\n",
            " Second : 3\n",
            "\n",
            " HCF of 10.0 and 3.0 = 1.0\n"
          ]
        }
      ]
    }
  ]
}